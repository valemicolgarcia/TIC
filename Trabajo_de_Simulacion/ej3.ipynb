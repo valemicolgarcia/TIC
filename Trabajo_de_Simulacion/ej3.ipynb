{
 "cells": [
  {
   "cell_type": "markdown",
   "id": "49e360ba",
   "metadata": {},
   "source": [
    "# Compresión usando Huffman con fuente extendida"
   ]
  },
  {
   "cell_type": "markdown",
   "id": "6be7bfcb",
   "metadata": {},
   "source": [
    "### Importe de librerías"
   ]
  },
  {
   "cell_type": "code",
   "execution_count": 21,
   "id": "0b90f00c",
   "metadata": {},
   "outputs": [],
   "source": [
    "from PIL import Image\n",
    "from collections import Counter\n",
    "import numpy as np\n",
    "import heapq"
   ]
  },
  {
   "cell_type": "markdown",
   "id": "ee25c2f2",
   "metadata": {},
   "source": [
    "### Archivo logo FI.tif"
   ]
  },
  {
   "cell_type": "code",
   "execution_count": 22,
   "id": "6d6c6943",
   "metadata": {},
   "outputs": [
    {
     "name": "stdout",
     "output_type": "stream",
     "text": [
      "Probabilidades: {1: 0.5146142686465267, 0: 0.4853857313534733}\n"
     ]
    }
   ],
   "source": [
    "img = Image.open('logo FI.tif')     # Se abre la imagen\n",
    "pixels = np.array(img).flatten()    # Conversión de la imagen a vector\n",
    "pixels = pixels.astype(int)         # Conversión de booleanos a enteros\n",
    "\n",
    "# Conteo de frecuencias de cada símbolo (0 y 1) en la imagen\n",
    "freq = Counter(pixels)      # conteo de apariciones de cada símbolo\n",
    "total = len(pixels)         # total de píxeles en la imagen\n",
    "\n",
    "# Probabilidad de cada símbolo\n",
    "prob = {sym: count/total for sym, count in freq.items()}\n",
    "print(\"Probabilidades:\", prob)\n"
   ]
  },
  {
   "cell_type": "markdown",
   "id": "0df8ef23",
   "metadata": {},
   "source": [
    "# Código de Huffman"
   ]
  },
  {
   "cell_type": "code",
   "execution_count": 26,
   "id": "8de14845",
   "metadata": {},
   "outputs": [],
   "source": [
    "def calcular_huffman(pixels, n):\n",
    "    \n",
    "    # Recorrido del vector de pixeles de n en n\n",
    "    bloques  = [tuple(pixels[i:i+n]) for i in range(0, len(pixels)-n+1, n)]\n",
    "\n",
    "    # Frecuencia de cada bloque de longitud n\n",
    "    freq = Counter(bloques)\n",
    "\n",
    "    # Total de bloques formados\n",
    "    total = len(bloques)\n",
    "\n",
    "    # Probabilidad de cada bloque\n",
    "    prob = {sym: count/total for sym, count in freq.items()}\n",
    "\n",
    "    print (\"Las probabilidades de cada bloque son: \" , prob)\n",
    "    print(\" \")\n",
    "\n",
    "    # Construcción del árbol de Huffman usando heap \n",
    "\n",
    "    # Cada elemento de la lista heap tiene [probabilidad, [símbolo, codigo binario]]\n",
    "    heap = [[prob, [sym, \"\"]] for sym, prob in prob.items()]\n",
    "\n",
    "    # El elemento de menor probabilidad queda en la raiz\n",
    "    heapq.heapify(heap)\n",
    "\n",
    "\n",
    "    while len(heap) > 1:\n",
    "\n",
    "        #Extracción de los dos nodos con menor probabilidad de la heap\n",
    "        nodo_izq = heapq.heappop(heap)\n",
    "        nodo_der = heapq.heappop(heap)\n",
    "\n",
    "        #nodo_izq/der = [probabilidad, [símbolo1, código1], [símbolo2, código2], ...]\n",
    "\n",
    "\n",
    "        # Asignación de prefijo '0' al código del subárbol izquierdo\n",
    "        for simbolo_codigo in nodo_izq[1:]:\n",
    "            #ejemplo: simbolo_codigo = [ (1,0), '10']\n",
    "            simbolo_codigo[1] = '0' + simbolo_codigo[1]\n",
    "            #ejemplo: simbolo_codigo = [ (1,0), '010']\n",
    "\n",
    "        # Asignación de prefijo '1' al código del subárbol derecho\n",
    "        for simbolo_codigo in nodo_der[1:]:\n",
    "            simbolo_codigo[1] = '1' + simbolo_codigo[1]\n",
    "\n",
    "        #Probabilidad total\n",
    "        probabilidad_total = nodo_izq[0] + nodo_der[0]\n",
    "\n",
    "        # Combinación de ambos nodos en un nuevo nodo padre\n",
    "        heapq.heappush(heap, [probabilidad_total] + nodo_izq[1:] + nodo_der[1:])\n",
    "    \n",
    "    codigo_huffman = {bloque: codigo for bloque, codigo in heap[0][1:]}\n",
    "\n",
    "    Largo_promedio = sum(prob[sym] * len(code) for sym, code in codigo_huffman.items())\n",
    "    Largo_promedio = Largo_promedio / n\n",
    "    bits_originales = total * n\n",
    "    bits_comprimidos = sum(freq[sym] * len(codigo_huffman[sym]) for sym in freq)\n",
    "    tasa_compresion = bits_originales / bits_comprimidos\n",
    "    \n",
    "    return Largo_promedio, tasa_compresion, codigo_huffman\n",
    "\n"
   ]
  },
  {
   "cell_type": "markdown",
   "id": "78e684ee",
   "metadata": {},
   "source": [
    "### Fuente extendida de orden 2"
   ]
  },
  {
   "cell_type": "code",
   "execution_count": 27,
   "id": "d965dfbb",
   "metadata": {},
   "outputs": [
    {
     "name": "stdout",
     "output_type": "stream",
     "text": [
      "Las probabilidades de cada bloque son:  {(1, 1): 0.5042136030039256, (1, 0): 0.011627410820959208, (0, 0): 0.4749850657108722, (0, 1): 0.009173920464243045}\n",
      " \n",
      "Orden 2: L=0.76, tasa=1.32\n"
     ]
    }
   ],
   "source": [
    "L2, tasa2, huff2 = calcular_huffman(pixels, 2)\n",
    "print(f\"Orden 2: L={L2:.2f}, tasa={tasa2:.2f}\")"
   ]
  },
  {
   "cell_type": "markdown",
   "id": "7f2f7b92",
   "metadata": {},
   "source": [
    "### Fuente extendida de orden 3"
   ]
  },
  {
   "cell_type": "code",
   "execution_count": 28,
   "id": "b072b1b0",
   "metadata": {},
   "outputs": [
    {
     "name": "stdout",
     "output_type": "stream",
     "text": [
      "Las probabilidades de cada bloque son:  {(1, 1, 1): 0.493423579109063, (1, 1, 0): 0.010016641065028161, (0, 0, 0): 0.46542178699436765, (0, 0, 1): 0.009072580645161291, (1, 0, 0): 0.009504608294930876, (0, 1, 1): 0.01238479262672811, (1, 0, 1): 1.6001024065540195e-05, (0, 1, 0): 0.00016001024065540195}\n",
      " \n",
      "Orden 3: L=0.53, tasa=1.88\n"
     ]
    }
   ],
   "source": [
    "L3, tasa3, huff3 = calcular_huffman(pixels, 3)\n",
    "print(f\"Orden 3: L={L3:.2f}, tasa={tasa3:.2f}\")"
   ]
  }
 ],
 "metadata": {
  "kernelspec": {
   "display_name": "Python 3",
   "language": "python",
   "name": "python3"
  },
  "language_info": {
   "codemirror_mode": {
    "name": "ipython",
    "version": 3
   },
   "file_extension": ".py",
   "mimetype": "text/x-python",
   "name": "python",
   "nbconvert_exporter": "python",
   "pygments_lexer": "ipython3",
   "version": "3.11.9"
  }
 },
 "nbformat": 4,
 "nbformat_minor": 5
}
